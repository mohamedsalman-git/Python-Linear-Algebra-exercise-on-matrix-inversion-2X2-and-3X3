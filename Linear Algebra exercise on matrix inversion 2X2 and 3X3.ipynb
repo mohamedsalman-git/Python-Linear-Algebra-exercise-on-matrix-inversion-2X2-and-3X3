{
 "cells": [
  {
   "cell_type": "markdown",
   "metadata": {},
   "source": [
    "# Linear Algebra exercise on matrix inversion"
   ]
  },
  {
   "cell_type": "markdown",
   "metadata": {},
   "source": [
    "## Q1. Calculating the inverse of a 2x2 matrix without using numpy \n",
    "* Code a function to calculate the determinant of 2x2 matrix \n",
    "* Code a function that interchange the diagonal elements of a 2x2 matrix and inverse the sign of the off diagonal elements.\n",
    "\n",
    "* Code a function to compute the inverse of 2x2 matrix based on the two previous functions if it exists \n",
    "\n",
    "## Q2. Coding a Python code to inverse a 3x3 matrix in order to solve a linear system (no numpy.linalg.inv allowed) with 3 constraints and 3 variables:\n",
    "* Coding a function that checks if a 3x3 matrix is invertible \n",
    "* Coding a function that generates the transpose of a 3x3 matrix \n",
    "* Coding a function that generates the matrix of minors of a 3x3 matrix \n",
    "* Coding a function that generates the matrix of cofactors of a 3x3 matrix \n",
    "* Coding a function that generates the inverse of a 3x3 matrix if it exists"
   ]
  },
  {
   "cell_type": "markdown",
   "metadata": {},
   "source": [
    "### Answer:-"
   ]
  },
  {
   "cell_type": "markdown",
   "metadata": {},
   "source": [
    "### Q1"
   ]
  },
  {
   "cell_type": "code",
   "execution_count": 1,
   "metadata": {},
   "outputs": [],
   "source": [
    "def determenant2x2(m):\n",
    "    return (m[0][0]*m[1][1]-m[1][0]*m[0][1])\n",
    "           \n",
    "def interchange2x2(m):      \n",
    "    m[0][0],m[1][1]=m[1][1],m[0][0]\n",
    "    m[1][0]=-1*m[1][0]\n",
    "    m[0][1]=-1*m[0][1]\n",
    "    return m\n",
    "\n",
    "def inverse2x2(m):\n",
    "    inv=[]\n",
    "    d=determenant2x2(m)\n",
    "    if d==0:\n",
    "        print(\"matrix is not invertible\")\n",
    "        return 0\n",
    "    \n",
    "    inter=interchange2x2(m)\n",
    "    for l in inter:\n",
    "        temp= [x / d for x in l ]\n",
    "        inv.append(temp)\n",
    "    return inv"
   ]
  },
  {
   "cell_type": "code",
   "execution_count": 2,
   "metadata": {},
   "outputs": [],
   "source": [
    "m=[[2,-1],\n",
    "   [-1,2]]"
   ]
  },
  {
   "cell_type": "code",
   "execution_count": 3,
   "metadata": {},
   "outputs": [
    {
     "data": {
      "text/plain": [
       "[[0.6666666666666666, 0.3333333333333333],\n",
       " [0.3333333333333333, 0.6666666666666666]]"
      ]
     },
     "execution_count": 3,
     "metadata": {},
     "output_type": "execute_result"
    }
   ],
   "source": [
    "inverse2x2(m)"
   ]
  },
  {
   "cell_type": "markdown",
   "metadata": {},
   "source": [
    "### Q2"
   ]
  },
  {
   "cell_type": "code",
   "execution_count": 4,
   "metadata": {},
   "outputs": [],
   "source": [
    "import copy\n",
    "\n",
    "def determenant3x3(A):\n",
    "    summ=0\n",
    "    for c in list(range(3)): \n",
    "        As = copy.deepcopy(A)\n",
    "        As = As[1:] \n",
    "        for i in range(2): \n",
    "            As[i] = As[i][0:c] + As[i][c+1:]     \n",
    "        summ=summ+((-1)**(c % 2))*A[0][c]*determenant2x2(As)\n",
    "    return summ"
   ]
  },
  {
   "cell_type": "code",
   "execution_count": 5,
   "metadata": {},
   "outputs": [],
   "source": [
    "def isinvertable(A):\n",
    "    return (determenant3x3(A)!=0)"
   ]
  },
  {
   "cell_type": "code",
   "execution_count": 6,
   "metadata": {},
   "outputs": [],
   "source": [
    "def transpose(m):\n",
    "    l=list(zip(*m))\n",
    "    l1=[list(x) for x in l]\n",
    "    return l1"
   ]
  },
  {
   "cell_type": "code",
   "execution_count": 7,
   "metadata": {},
   "outputs": [],
   "source": [
    "import copy\n",
    "\n",
    "def minors3x3(A):\n",
    "    minors=[]\n",
    "    for row in list(range(3)):\n",
    "        min_row=[]\n",
    "        for c in list(range(3)): \n",
    "            As = copy.deepcopy(A)\n",
    "            As = As[0:row] +As[row+1:]\n",
    "            for i in range(2): \n",
    "                As[i] = As[i][0:c] + As[i][c+1:]  \n",
    "            min_row.append(determenant2x2(As))\n",
    "        minors.append(min_row)\n",
    "    return minors"
   ]
  },
  {
   "cell_type": "code",
   "execution_count": 8,
   "metadata": {},
   "outputs": [],
   "source": [
    "def cofactors3x3(A):\n",
    "    cofactors=[]\n",
    "    for r in list(range(3)):\n",
    "        cof_row=[]\n",
    "        for c in list(range(3)):\n",
    "            cof_row.append(((-1)**r)*((-1)**c)*minors3x3(A)[r][c])\n",
    "        cofactors.append(cof_row)\n",
    "    return cofactors"
   ]
  },
  {
   "cell_type": "code",
   "execution_count": 9,
   "metadata": {},
   "outputs": [],
   "source": [
    "def inverse2x2(m):\n",
    "    if isinvertable(m)==False:\n",
    "        print(\"matrix is not invertible\")\n",
    "        return 0\n",
    "    \n",
    "    d=determenant3x3(m)\n",
    "    c=cofactors3x3(m)\n",
    "    c=transpose(c)\n",
    "    inv=[]\n",
    "    for row in c:\n",
    "        inv_row= [col / d for col in row ]\n",
    "        inv.append(inv_row)\n",
    "    return inv"
   ]
  },
  {
   "cell_type": "code",
   "execution_count": 10,
   "metadata": {},
   "outputs": [],
   "source": [
    "mat= [[-2,2,-3],\n",
    "      [-1,1,3],\n",
    "      [2,0,-1]] "
   ]
  },
  {
   "cell_type": "code",
   "execution_count": 11,
   "metadata": {},
   "outputs": [
    {
     "data": {
      "text/plain": [
       "[[-0.05555555555555555, 0.1111111111111111, 0.5],\n",
       " [0.2777777777777778, 0.4444444444444444, 0.5],\n",
       " [-0.1111111111111111, 0.2222222222222222, 0.0]]"
      ]
     },
     "execution_count": 11,
     "metadata": {},
     "output_type": "execute_result"
    }
   ],
   "source": [
    "inverse2x2(mat)"
   ]
  }
 ],
 "metadata": {
  "kernelspec": {
   "display_name": "Python 3",
   "language": "python",
   "name": "python3"
  },
  "language_info": {
   "codemirror_mode": {
    "name": "ipython",
    "version": 3
   },
   "file_extension": ".py",
   "mimetype": "text/x-python",
   "name": "python",
   "nbconvert_exporter": "python",
   "pygments_lexer": "ipython3",
   "version": "3.7.3"
  }
 },
 "nbformat": 4,
 "nbformat_minor": 2
}
